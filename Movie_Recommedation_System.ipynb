{
 "cells": [
  {
   "cell_type": "markdown",
   "id": "690e3c39",
   "metadata": {},
   "source": [
    "## Building a Movie Recommendation System\n",
    "## Data set is downloaded from Kaggle\n",
    "### Follow the link to download the dataset \" https://www.kaggle.com/datasets/rounakbanik/the-movies-dataset?select=movies_metadata.csv \""
   ]
  },
  {
   "cell_type": "code",
   "execution_count": 1,
   "id": "f4c466fe",
   "metadata": {},
   "outputs": [],
   "source": [
    "# importing neccessary libraries.\n",
    "import pandas as pd\n",
    "import numpy as np\n",
    "\n",
    "# Other libraries which are required will be imported whereever used."
   ]
  },
  {
   "cell_type": "code",
   "execution_count": 2,
   "id": "e8bd093a",
   "metadata": {},
   "outputs": [
    {
     "data": {
      "text/plain": [
       "(12000, 24)"
      ]
     },
     "execution_count": 2,
     "metadata": {},
     "output_type": "execute_result"
    }
   ],
   "source": [
    "# Loading dataset 'movies_metadata.csv'\n",
    "data = pd.read_csv('movies_metadata.csv', low_memory = False)\n",
    "data = data[0:12000]  #using only 12000 datapoints for faster computation and avoid space complexity.\n",
    "data.head(5)  #printing 1st rows of the dataset\n",
    "data.shape"
   ]
  },
  {
   "cell_type": "markdown",
   "id": "37ffed0a",
   "metadata": {},
   "source": [
    "## The data has unnessacary coloumns and null values so we use data cleaning techniques to acheive a meaning full data set "
   ]
  },
  {
   "cell_type": "code",
   "execution_count": 3,
   "id": "5835c4f3",
   "metadata": {},
   "outputs": [
    {
     "data": {
      "text/html": [
       "<div>\n",
       "<style scoped>\n",
       "    .dataframe tbody tr th:only-of-type {\n",
       "        vertical-align: middle;\n",
       "    }\n",
       "\n",
       "    .dataframe tbody tr th {\n",
       "        vertical-align: top;\n",
       "    }\n",
       "\n",
       "    .dataframe thead th {\n",
       "        text-align: right;\n",
       "    }\n",
       "</style>\n",
       "<table border=\"1\" class=\"dataframe\">\n",
       "  <thead>\n",
       "    <tr style=\"text-align: right;\">\n",
       "      <th></th>\n",
       "      <th>original_title</th>\n",
       "      <th>genres</th>\n",
       "      <th>overview</th>\n",
       "      <th>runtime</th>\n",
       "      <th>vote_average</th>\n",
       "    </tr>\n",
       "  </thead>\n",
       "  <tbody>\n",
       "    <tr>\n",
       "      <th>0</th>\n",
       "      <td>Toy Story</td>\n",
       "      <td>[{'id': 16, 'name': 'Animation'}, {'id': 35, '...</td>\n",
       "      <td>Led by Woody, Andy's toys live happily in his ...</td>\n",
       "      <td>81.0</td>\n",
       "      <td>7.7</td>\n",
       "    </tr>\n",
       "    <tr>\n",
       "      <th>1</th>\n",
       "      <td>Jumanji</td>\n",
       "      <td>[{'id': 12, 'name': 'Adventure'}, {'id': 14, '...</td>\n",
       "      <td>When siblings Judy and Peter discover an encha...</td>\n",
       "      <td>104.0</td>\n",
       "      <td>6.9</td>\n",
       "    </tr>\n",
       "    <tr>\n",
       "      <th>2</th>\n",
       "      <td>Grumpier Old Men</td>\n",
       "      <td>[{'id': 10749, 'name': 'Romance'}, {'id': 35, ...</td>\n",
       "      <td>A family wedding reignites the ancient feud be...</td>\n",
       "      <td>101.0</td>\n",
       "      <td>6.5</td>\n",
       "    </tr>\n",
       "    <tr>\n",
       "      <th>3</th>\n",
       "      <td>Waiting to Exhale</td>\n",
       "      <td>[{'id': 35, 'name': 'Comedy'}, {'id': 18, 'nam...</td>\n",
       "      <td>Cheated on, mistreated and stepped on, the wom...</td>\n",
       "      <td>127.0</td>\n",
       "      <td>6.1</td>\n",
       "    </tr>\n",
       "    <tr>\n",
       "      <th>4</th>\n",
       "      <td>Father of the Bride Part II</td>\n",
       "      <td>[{'id': 35, 'name': 'Comedy'}]</td>\n",
       "      <td>Just when George Banks has recovered from his ...</td>\n",
       "      <td>106.0</td>\n",
       "      <td>5.7</td>\n",
       "    </tr>\n",
       "  </tbody>\n",
       "</table>\n",
       "</div>"
      ],
      "text/plain": [
       "                original_title  \\\n",
       "0                    Toy Story   \n",
       "1                      Jumanji   \n",
       "2             Grumpier Old Men   \n",
       "3            Waiting to Exhale   \n",
       "4  Father of the Bride Part II   \n",
       "\n",
       "                                              genres  \\\n",
       "0  [{'id': 16, 'name': 'Animation'}, {'id': 35, '...   \n",
       "1  [{'id': 12, 'name': 'Adventure'}, {'id': 14, '...   \n",
       "2  [{'id': 10749, 'name': 'Romance'}, {'id': 35, ...   \n",
       "3  [{'id': 35, 'name': 'Comedy'}, {'id': 18, 'nam...   \n",
       "4                     [{'id': 35, 'name': 'Comedy'}]   \n",
       "\n",
       "                                            overview  runtime  vote_average  \n",
       "0  Led by Woody, Andy's toys live happily in his ...     81.0           7.7  \n",
       "1  When siblings Judy and Peter discover an encha...    104.0           6.9  \n",
       "2  A family wedding reignites the ancient feud be...    101.0           6.5  \n",
       "3  Cheated on, mistreated and stepped on, the wom...    127.0           6.1  \n",
       "4  Just when George Banks has recovered from his ...    106.0           5.7  "
      ]
     },
     "execution_count": 3,
     "metadata": {},
     "output_type": "execute_result"
    }
   ],
   "source": [
    "data = data[['original_title', 'genres', 'overview', 'runtime', 'vote_average']] # extracting only required columns \n",
    "data.head(5)"
   ]
  },
  {
   "cell_type": "code",
   "execution_count": 4,
   "id": "85a4f830",
   "metadata": {},
   "outputs": [
    {
     "data": {
      "text/html": [
       "<div>\n",
       "<style scoped>\n",
       "    .dataframe tbody tr th:only-of-type {\n",
       "        vertical-align: middle;\n",
       "    }\n",
       "\n",
       "    .dataframe tbody tr th {\n",
       "        vertical-align: top;\n",
       "    }\n",
       "\n",
       "    .dataframe thead th {\n",
       "        text-align: right;\n",
       "    }\n",
       "</style>\n",
       "<table border=\"1\" class=\"dataframe\">\n",
       "  <thead>\n",
       "    <tr style=\"text-align: right;\">\n",
       "      <th></th>\n",
       "      <th>original_title</th>\n",
       "      <th>genres</th>\n",
       "      <th>overview</th>\n",
       "      <th>runtime</th>\n",
       "      <th>vote_average</th>\n",
       "    </tr>\n",
       "  </thead>\n",
       "  <tbody>\n",
       "    <tr>\n",
       "      <th>0</th>\n",
       "      <td>Toy Story</td>\n",
       "      <td>Animation Comedy Family</td>\n",
       "      <td>Led by Woody, Andy's toys live happily in his ...</td>\n",
       "      <td>81.0</td>\n",
       "      <td>7.7</td>\n",
       "    </tr>\n",
       "    <tr>\n",
       "      <th>1</th>\n",
       "      <td>Jumanji</td>\n",
       "      <td>Adventure Fantasy Family</td>\n",
       "      <td>When siblings Judy and Peter discover an encha...</td>\n",
       "      <td>104.0</td>\n",
       "      <td>6.9</td>\n",
       "    </tr>\n",
       "    <tr>\n",
       "      <th>2</th>\n",
       "      <td>Grumpier Old Men</td>\n",
       "      <td>Romance Comedy</td>\n",
       "      <td>A family wedding reignites the ancient feud be...</td>\n",
       "      <td>101.0</td>\n",
       "      <td>6.5</td>\n",
       "    </tr>\n",
       "    <tr>\n",
       "      <th>3</th>\n",
       "      <td>Waiting to Exhale</td>\n",
       "      <td>Comedy Drama Romance</td>\n",
       "      <td>Cheated on, mistreated and stepped on, the wom...</td>\n",
       "      <td>127.0</td>\n",
       "      <td>6.1</td>\n",
       "    </tr>\n",
       "    <tr>\n",
       "      <th>4</th>\n",
       "      <td>Father of the Bride Part II</td>\n",
       "      <td>Comedy</td>\n",
       "      <td>Just when George Banks has recovered from his ...</td>\n",
       "      <td>106.0</td>\n",
       "      <td>5.7</td>\n",
       "    </tr>\n",
       "  </tbody>\n",
       "</table>\n",
       "</div>"
      ],
      "text/plain": [
       "                original_title                    genres  \\\n",
       "0                    Toy Story   Animation Comedy Family   \n",
       "1                      Jumanji  Adventure Fantasy Family   \n",
       "2             Grumpier Old Men            Romance Comedy   \n",
       "3            Waiting to Exhale      Comedy Drama Romance   \n",
       "4  Father of the Bride Part II                    Comedy   \n",
       "\n",
       "                                            overview  runtime  vote_average  \n",
       "0  Led by Woody, Andy's toys live happily in his ...     81.0           7.7  \n",
       "1  When siblings Judy and Peter discover an encha...    104.0           6.9  \n",
       "2  A family wedding reignites the ancient feud be...    101.0           6.5  \n",
       "3  Cheated on, mistreated and stepped on, the wom...    127.0           6.1  \n",
       "4  Just when George Banks has recovered from his ...    106.0           5.7  "
      ]
     },
     "execution_count": 4,
     "metadata": {},
     "output_type": "execute_result"
    }
   ],
   "source": [
    "# Extracting only the genre names from genre column and replacing them inplace of original column\n",
    "data['genres'] = data['genres'].apply(lambda x : [i['name'] for i in eval(x)])\n",
    "data['genres'] = data['genres'].apply(lambda x: ' '.join([i.replace(\" \",\"\") for i in x]))\n",
    "data.head(5)"
   ]
  },
  {
   "cell_type": "code",
   "execution_count": 5,
   "id": "13634209",
   "metadata": {},
   "outputs": [
    {
     "data": {
      "text/html": [
       "<div>\n",
       "<style scoped>\n",
       "    .dataframe tbody tr th:only-of-type {\n",
       "        vertical-align: middle;\n",
       "    }\n",
       "\n",
       "    .dataframe tbody tr th {\n",
       "        vertical-align: top;\n",
       "    }\n",
       "\n",
       "    .dataframe thead th {\n",
       "        text-align: right;\n",
       "    }\n",
       "</style>\n",
       "<table border=\"1\" class=\"dataframe\">\n",
       "  <thead>\n",
       "    <tr style=\"text-align: right;\">\n",
       "      <th></th>\n",
       "      <th>original_title</th>\n",
       "      <th>genres</th>\n",
       "      <th>overview</th>\n",
       "      <th>runtime</th>\n",
       "      <th>vote_average</th>\n",
       "    </tr>\n",
       "  </thead>\n",
       "  <tbody>\n",
       "    <tr>\n",
       "      <th>0</th>\n",
       "      <td>Toy Story</td>\n",
       "      <td>Animation Comedy Family</td>\n",
       "      <td>Led by Woody, Andy's toys live happily in his ...</td>\n",
       "      <td>81.0</td>\n",
       "      <td>7.7</td>\n",
       "    </tr>\n",
       "    <tr>\n",
       "      <th>1</th>\n",
       "      <td>Jumanji</td>\n",
       "      <td>Adventure Fantasy Family</td>\n",
       "      <td>When siblings Judy and Peter discover an encha...</td>\n",
       "      <td>104.0</td>\n",
       "      <td>6.9</td>\n",
       "    </tr>\n",
       "    <tr>\n",
       "      <th>2</th>\n",
       "      <td>Grumpier Old Men</td>\n",
       "      <td>Romance Comedy</td>\n",
       "      <td>A family wedding reignites the ancient feud be...</td>\n",
       "      <td>101.0</td>\n",
       "      <td>6.5</td>\n",
       "    </tr>\n",
       "    <tr>\n",
       "      <th>3</th>\n",
       "      <td>Waiting to Exhale</td>\n",
       "      <td>Comedy Drama Romance</td>\n",
       "      <td>Cheated on, mistreated and stepped on, the wom...</td>\n",
       "      <td>127.0</td>\n",
       "      <td>6.1</td>\n",
       "    </tr>\n",
       "    <tr>\n",
       "      <th>4</th>\n",
       "      <td>Father of the Bride Part II</td>\n",
       "      <td>Comedy</td>\n",
       "      <td>Just when George Banks has recovered from his ...</td>\n",
       "      <td>106.0</td>\n",
       "      <td>5.7</td>\n",
       "    </tr>\n",
       "  </tbody>\n",
       "</table>\n",
       "</div>"
      ],
      "text/plain": [
       "                original_title                    genres  \\\n",
       "0                    Toy Story   Animation Comedy Family   \n",
       "1                      Jumanji  Adventure Fantasy Family   \n",
       "2             Grumpier Old Men            Romance Comedy   \n",
       "3            Waiting to Exhale      Comedy Drama Romance   \n",
       "4  Father of the Bride Part II                    Comedy   \n",
       "\n",
       "                                            overview  runtime  vote_average  \n",
       "0  Led by Woody, Andy's toys live happily in his ...     81.0           7.7  \n",
       "1  When siblings Judy and Peter discover an encha...    104.0           6.9  \n",
       "2  A family wedding reignites the ancient feud be...    101.0           6.5  \n",
       "3  Cheated on, mistreated and stepped on, the wom...    127.0           6.1  \n",
       "4  Just when George Banks has recovered from his ...    106.0           5.7  "
      ]
     },
     "execution_count": 5,
     "metadata": {},
     "output_type": "execute_result"
    }
   ],
   "source": [
    "data['genres'].isnull().sum()\n",
    "data['genres'] = data['genres'].fillna('general')\n",
    "data.head(5)"
   ]
  },
  {
   "cell_type": "code",
   "execution_count": 6,
   "id": "80139164",
   "metadata": {},
   "outputs": [
    {
     "data": {
      "text/plain": [
       "(12000, 20)"
      ]
     },
     "execution_count": 6,
     "metadata": {},
     "output_type": "execute_result"
    }
   ],
   "source": [
    "#Importing tfidf vectorizer \n",
    "from sklearn.feature_extraction.text import TfidfVectorizer\n",
    "tfidf = TfidfVectorizer() # creating a tfidf vectorizer\n",
    "tfidf_matrix = tfidf.fit_transform(data['genres'])\n",
    "tfidf_matrix.shape"
   ]
  },
  {
   "cell_type": "markdown",
   "id": "59f56458",
   "metadata": {},
   "source": [
    "## For the above matrix we need to find the similarity score "
   ]
  },
  {
   "cell_type": "code",
   "execution_count": 7,
   "id": "26e70b91",
   "metadata": {},
   "outputs": [],
   "source": [
    "# caluculating dot product using sklearn's linear kernel\n",
    "from sklearn.metrics.pairwise import linear_kernel\n",
    "# calculating the cosine similarity on tfidf matrix\n",
    "cosine_sim_matrix = linear_kernel(tfidf_matrix, tfidf_matrix)"
   ]
  },
  {
   "cell_type": "code",
   "execution_count": 8,
   "id": "a7cf0f21",
   "metadata": {},
   "outputs": [],
   "source": [
    "# Now lets map all the movie names('original_title') to the index\n",
    "movie_index = pd.Series(data.index, index = data['original_title']).drop_duplicates()"
   ]
  },
  {
   "cell_type": "code",
   "execution_count": 9,
   "id": "df2434b5",
   "metadata": {},
   "outputs": [
    {
     "data": {
      "text/plain": [
       "22"
      ]
     },
     "execution_count": 9,
     "metadata": {},
     "output_type": "execute_result"
    }
   ],
   "source": [
    "movie_id = movie_index['Assassins']\n",
    "movie_id"
   ]
  },
  {
   "cell_type": "code",
   "execution_count": 10,
   "id": "7e7a54c1",
   "metadata": {},
   "outputs": [],
   "source": [
    "# defining a function to recommend movies\n",
    "def get_recommendations(Name, topN):\n",
    "    movie_id = movie_index[Name]\n",
    "    # now we need to calculate the pair wise similarity score for all movies's with the selected movie\n",
    "    cosine_scores = list(enumerate(cosine_sim_matrix[movie_id]))\n",
    "    # Sorting the cosine_similarity based on score\n",
    "    cosine_scores = sorted(cosine_scores, key = lambda x:x[1], reverse = True)\n",
    "    # Get the scores of Top N most similar movies\n",
    "    cosine_scores_topN = cosine_scores[0:topN+1]\n",
    "    \n",
    "    # mapping scores and movies and printing similar movies\n",
    "    movie_idx = [i[0] for i in cosine_scores_topN]\n",
    "    movie_scores = [i[1] for i in cosine_scores_topN]\n",
    "    similar_movies = pd.DataFrame(columns = [\"Name\", \"Score\"])\n",
    "    similar_movies['Name'] = data.loc[movie_idx, 'original_title']\n",
    "    similar_movies['Score'] = movie_scores\n",
    "    similar_movies.reset_index(inplace = True)\n",
    "    print(similar_movies)"
   ]
  },
  {
   "cell_type": "code",
   "execution_count": 11,
   "id": "28c91fec",
   "metadata": {},
   "outputs": [
    {
     "name": "stdout",
     "output_type": "stream",
     "text": [
      "    index                      Name     Score\n",
      "0      36    Across the Sea of Time  1.000000\n",
      "1    1545      Seven Years in Tibet  0.840401\n",
      "2    4559                Black Robe  0.840401\n",
      "3    5093                  Barabbas  0.840401\n",
      "4    6911  Aguirre, der Zorn Gottes  0.840401\n",
      "5    6935        A Passage to India  0.840401\n",
      "6    7628        Sodom and Gomorrah  0.840401\n",
      "7    7994                   Tai-Pan  0.840401\n",
      "8    8427      Passage to Marseille  0.840401\n",
      "9    8556      Mutiny on the Bounty  0.840401\n",
      "10  11233                   Ivanhoe  0.840401\n"
     ]
    }
   ],
   "source": [
    "get_recommendations('Across the Sea of Time', topN = 10)"
   ]
  },
  {
   "cell_type": "code",
   "execution_count": null,
   "id": "a4850596",
   "metadata": {},
   "outputs": [],
   "source": []
  }
 ],
 "metadata": {
  "kernelspec": {
   "display_name": "Python 3 (ipykernel)",
   "language": "python",
   "name": "python3"
  },
  "language_info": {
   "codemirror_mode": {
    "name": "ipython",
    "version": 3
   },
   "file_extension": ".py",
   "mimetype": "text/x-python",
   "name": "python",
   "nbconvert_exporter": "python",
   "pygments_lexer": "ipython3",
   "version": "3.9.12"
  }
 },
 "nbformat": 4,
 "nbformat_minor": 5
}
